{
 "cells": [
  {
   "cell_type": "code",
   "execution_count": 24,
   "id": "fd14d3ba",
   "metadata": {},
   "outputs": [],
   "source": [
    "%matplotlib notebook\n",
    "import matplotlib.pyplot as plt\n",
    "import pandas as pd\n",
    "import numpy as np\n",
    "import random\n",
    "import timeit"
   ]
  },
  {
   "cell_type": "code",
   "execution_count": 25,
   "id": "4380cc1f",
   "metadata": {},
   "outputs": [
    {
     "data": {
      "text/plain": [
       "-16"
      ]
     },
     "execution_count": 25,
     "metadata": {},
     "output_type": "execute_result"
    }
   ],
   "source": [
    "random.randint(-90, 90)"
   ]
  },
  {
   "cell_type": "code",
   "execution_count": 26,
   "id": "36ea43a7",
   "metadata": {},
   "outputs": [
    {
     "data": {
      "text/plain": [
       "0.59780659192368"
      ]
     },
     "execution_count": 26,
     "metadata": {},
     "output_type": "execute_result"
    }
   ],
   "source": [
    "random.random()"
   ]
  },
  {
   "cell_type": "code",
   "execution_count": 27,
   "id": "23e4f63c",
   "metadata": {},
   "outputs": [
    {
     "name": "stdout",
     "output_type": "stream",
     "text": [
      "[-42.52611364746391, -37.875546420308034, -22.26682756574514, -82.24917539960992, 53.61611339085588, -63.006992887379965, -38.75222734900492, 10.789421256676052, -3.646534251991204, 63.64360322054951]\n"
     ]
    }
   ],
   "source": [
    "x = 1\n",
    "latitudes = []\n",
    "while x < 11:\n",
    "    random_lat = random.randint(-90, 89) + random.random()\n",
    "    latitudes.append(random_lat)\n",
    "    x += 1\n",
    "print(latitudes)"
   ]
  },
  {
   "cell_type": "code",
   "execution_count": 28,
   "id": "52b420df",
   "metadata": {},
   "outputs": [
    {
     "data": {
      "text/plain": [
       "26"
      ]
     },
     "execution_count": 28,
     "metadata": {},
     "output_type": "execute_result"
    }
   ],
   "source": [
    "random.randrange(-90, 90, step=1)"
   ]
  },
  {
   "cell_type": "code",
   "execution_count": 29,
   "id": "5ab8a897",
   "metadata": {},
   "outputs": [
    {
     "data": {
      "text/plain": [
       "-36"
      ]
     },
     "execution_count": 29,
     "metadata": {},
     "output_type": "execute_result"
    }
   ],
   "source": [
    "random.randrange(-90, 90, step=3)"
   ]
  },
  {
   "cell_type": "code",
   "execution_count": 30,
   "id": "1e0544bb",
   "metadata": {},
   "outputs": [
    {
     "data": {
      "text/plain": [
       "-30.912036843703717"
      ]
     },
     "execution_count": 30,
     "metadata": {},
     "output_type": "execute_result"
    }
   ],
   "source": [
    "random.uniform(-90, 90)"
   ]
  },
  {
   "cell_type": "code",
   "execution_count": 31,
   "id": "bd06ef86",
   "metadata": {},
   "outputs": [
    {
     "data": {
      "text/plain": [
       "84.26359365900143"
      ]
     },
     "execution_count": 31,
     "metadata": {},
     "output_type": "execute_result"
    }
   ],
   "source": [
    "np.random.uniform(-90.000, 90.000)"
   ]
  },
  {
   "cell_type": "code",
   "execution_count": 32,
   "id": "ff2828fa",
   "metadata": {},
   "outputs": [
    {
     "data": {
      "text/plain": [
       "array([-55.82908897, -55.89508269,  56.71323967, -64.32056131,\n",
       "       -66.52654925, -12.6288431 ,  13.52084282, -84.10864986,\n",
       "       -68.2812512 ,  18.85327925,  63.52507532,  -8.29803726,\n",
       "        88.33223241, -27.05257917,  82.86651583,  23.42348063,\n",
       "       -15.8016198 ,  62.37860033,  12.48882627, -79.06542076,\n",
       "        41.13838237,  48.719937  , -54.53300314,  55.62671203,\n",
       "        21.64554119,  82.41769979, -74.91762965,  34.58608769,\n",
       "       -57.82587156, -78.00432258,  35.0525491 ,  -3.38806482,\n",
       "       -22.62866171,  48.10579013,  16.4675227 ,  27.07782393,\n",
       "        35.10455348, -51.36817075,  84.29465574,  32.56232917,\n",
       "        35.26373063,  58.28563735, -65.6242584 , -61.03815668,\n",
       "       -69.26812167,  84.46176949, -21.7671564 , -23.31132052,\n",
       "        32.84799511,  14.9837284 ])"
      ]
     },
     "execution_count": 32,
     "metadata": {},
     "output_type": "execute_result"
    }
   ],
   "source": [
    "np.random.uniform(-90.000, 90.000, size=50)"
   ]
  },
  {
   "cell_type": "code",
   "execution_count": 33,
   "id": "4c954fe4",
   "metadata": {},
   "outputs": [
    {
     "name": "stdout",
     "output_type": "stream",
     "text": [
      "15.1 µs ± 836 ns per loop (mean ± std. dev. of 7 runs, 100000 loops each)\n"
     ]
    }
   ],
   "source": [
    "%timeit np.random.uniform(-90.000, 90.000, size=1500)"
   ]
  },
  {
   "cell_type": "code",
   "execution_count": 34,
   "id": "2a6105f7",
   "metadata": {},
   "outputs": [
    {
     "name": "stdout",
     "output_type": "stream",
     "text": [
      "1.2 ms ± 34.9 µs per loop (mean ± std. dev. of 7 runs, 1000 loops each)\n"
     ]
    }
   ],
   "source": [
    "def latitudes(size):\n",
    "    latitudes = []\n",
    "    x = 0\n",
    "    while x < (size):\n",
    "        random_lat = random.randint(-90, 90) + random.random()\n",
    "        latitudes.append(random_lat)\n",
    "        x += 1\n",
    "    return latitudes\n",
    "# Call the function with 1500.\n",
    "%timeit latitudes(1500)"
   ]
  },
  {
   "cell_type": "code",
   "execution_count": null,
   "id": "b5d82cad",
   "metadata": {},
   "outputs": [],
   "source": []
  }
 ],
 "metadata": {
  "kernelspec": {
   "display_name": "PythonData",
   "language": "python",
   "name": "pythondata"
  },
  "language_info": {
   "codemirror_mode": {
    "name": "ipython",
    "version": 3
   },
   "file_extension": ".py",
   "mimetype": "text/x-python",
   "name": "python",
   "nbconvert_exporter": "python",
   "pygments_lexer": "ipython3",
   "version": "3.8.8"
  }
 },
 "nbformat": 4,
 "nbformat_minor": 5
}
